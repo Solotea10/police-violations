{
  "cells": [
    {
      "cell_type": "markdown",
      "metadata": {
        "id": "view-in-github",
        "colab_type": "text"
      },
      "source": [
        "<a href=\"https://colab.research.google.com/github/Solotea10/police-violations/blob/main/police_violations.ipynb\" target=\"_parent\"><img src=\"https://colab.research.google.com/assets/colab-badge.svg\" alt=\"Open In Colab\"/></a>"
      ]
    },
    {
      "cell_type": "markdown",
      "source": [
        "**POLICE VIOLATIONS**"
      ],
      "metadata": {
        "id": "MKGINeRqfHaS"
      },
      "id": "MKGINeRqfHaS"
    },
    {
      "cell_type": "markdown",
      "id": "3eec5222",
      "metadata": {
        "id": "3eec5222"
      },
      "source": [
        "## **INTRODUCTION**\n",
        " We are going to analyse the various factors considered when traffic regulations are broken.\n",
        " First we will import the dataset then clean it properly so we can make reliable decisions\n",
        " basing on it. Finally we will visualise it and then make conclusions on our findings.\n"
      ]
    },
    {
      "cell_type": "markdown",
      "source": [
        "# **DATA INGESTION**"
      ],
      "metadata": {
        "id": "RSw2dfNGfrbl"
      },
      "id": "RSw2dfNGfrbl"
    },
    {
      "cell_type": "code",
      "execution_count": 4,
      "id": "fc121b63",
      "metadata": {
        "id": "fc121b63"
      },
      "outputs": [],
      "source": [
        "# Import the relevant libraries\n",
        "import pandas as pd\n",
        "import numpy as np\n",
        "import seaborn as sns\n",
        "import matplotlib.pyplot as plt\n",
        "%matplotlib inline\n",
        "import warnings\n",
        "warnings.filterwarnings(\"ignore\")\n",
        "from datetime import datetime as dt"
      ]
    },
    {
      "cell_type": "code",
      "source": [
        "from google.colab import files\n",
        "uploaded=files.upload()"
      ],
      "metadata": {
        "colab": {
          "base_uri": "https://localhost:8080/",
          "height": 73
        },
        "id": "4P-qvW_zcSLS",
        "outputId": "4a377414-1e93-44be-8a3f-6b01e8f9ec55"
      },
      "id": "4P-qvW_zcSLS",
      "execution_count": 2,
      "outputs": [
        {
          "output_type": "display_data",
          "data": {
            "text/plain": [
              "<IPython.core.display.HTML object>"
            ],
            "text/html": [
              "\n",
              "     <input type=\"file\" id=\"files-824132f5-e0b9-47cd-b931-5e94766ccf99\" name=\"files[]\" multiple disabled\n",
              "        style=\"border:none\" />\n",
              "     <output id=\"result-824132f5-e0b9-47cd-b931-5e94766ccf99\">\n",
              "      Upload widget is only available when the cell has been executed in the\n",
              "      current browser session. Please rerun this cell to enable.\n",
              "      </output>\n",
              "      <script>// Copyright 2017 Google LLC\n",
              "//\n",
              "// Licensed under the Apache License, Version 2.0 (the \"License\");\n",
              "// you may not use this file except in compliance with the License.\n",
              "// You may obtain a copy of the License at\n",
              "//\n",
              "//      http://www.apache.org/licenses/LICENSE-2.0\n",
              "//\n",
              "// Unless required by applicable law or agreed to in writing, software\n",
              "// distributed under the License is distributed on an \"AS IS\" BASIS,\n",
              "// WITHOUT WARRANTIES OR CONDITIONS OF ANY KIND, either express or implied.\n",
              "// See the License for the specific language governing permissions and\n",
              "// limitations under the License.\n",
              "\n",
              "/**\n",
              " * @fileoverview Helpers for google.colab Python module.\n",
              " */\n",
              "(function(scope) {\n",
              "function span(text, styleAttributes = {}) {\n",
              "  const element = document.createElement('span');\n",
              "  element.textContent = text;\n",
              "  for (const key of Object.keys(styleAttributes)) {\n",
              "    element.style[key] = styleAttributes[key];\n",
              "  }\n",
              "  return element;\n",
              "}\n",
              "\n",
              "// Max number of bytes which will be uploaded at a time.\n",
              "const MAX_PAYLOAD_SIZE = 100 * 1024;\n",
              "\n",
              "function _uploadFiles(inputId, outputId) {\n",
              "  const steps = uploadFilesStep(inputId, outputId);\n",
              "  const outputElement = document.getElementById(outputId);\n",
              "  // Cache steps on the outputElement to make it available for the next call\n",
              "  // to uploadFilesContinue from Python.\n",
              "  outputElement.steps = steps;\n",
              "\n",
              "  return _uploadFilesContinue(outputId);\n",
              "}\n",
              "\n",
              "// This is roughly an async generator (not supported in the browser yet),\n",
              "// where there are multiple asynchronous steps and the Python side is going\n",
              "// to poll for completion of each step.\n",
              "// This uses a Promise to block the python side on completion of each step,\n",
              "// then passes the result of the previous step as the input to the next step.\n",
              "function _uploadFilesContinue(outputId) {\n",
              "  const outputElement = document.getElementById(outputId);\n",
              "  const steps = outputElement.steps;\n",
              "\n",
              "  const next = steps.next(outputElement.lastPromiseValue);\n",
              "  return Promise.resolve(next.value.promise).then((value) => {\n",
              "    // Cache the last promise value to make it available to the next\n",
              "    // step of the generator.\n",
              "    outputElement.lastPromiseValue = value;\n",
              "    return next.value.response;\n",
              "  });\n",
              "}\n",
              "\n",
              "/**\n",
              " * Generator function which is called between each async step of the upload\n",
              " * process.\n",
              " * @param {string} inputId Element ID of the input file picker element.\n",
              " * @param {string} outputId Element ID of the output display.\n",
              " * @return {!Iterable<!Object>} Iterable of next steps.\n",
              " */\n",
              "function* uploadFilesStep(inputId, outputId) {\n",
              "  const inputElement = document.getElementById(inputId);\n",
              "  inputElement.disabled = false;\n",
              "\n",
              "  const outputElement = document.getElementById(outputId);\n",
              "  outputElement.innerHTML = '';\n",
              "\n",
              "  const pickedPromise = new Promise((resolve) => {\n",
              "    inputElement.addEventListener('change', (e) => {\n",
              "      resolve(e.target.files);\n",
              "    });\n",
              "  });\n",
              "\n",
              "  const cancel = document.createElement('button');\n",
              "  inputElement.parentElement.appendChild(cancel);\n",
              "  cancel.textContent = 'Cancel upload';\n",
              "  const cancelPromise = new Promise((resolve) => {\n",
              "    cancel.onclick = () => {\n",
              "      resolve(null);\n",
              "    };\n",
              "  });\n",
              "\n",
              "  // Wait for the user to pick the files.\n",
              "  const files = yield {\n",
              "    promise: Promise.race([pickedPromise, cancelPromise]),\n",
              "    response: {\n",
              "      action: 'starting',\n",
              "    }\n",
              "  };\n",
              "\n",
              "  cancel.remove();\n",
              "\n",
              "  // Disable the input element since further picks are not allowed.\n",
              "  inputElement.disabled = true;\n",
              "\n",
              "  if (!files) {\n",
              "    return {\n",
              "      response: {\n",
              "        action: 'complete',\n",
              "      }\n",
              "    };\n",
              "  }\n",
              "\n",
              "  for (const file of files) {\n",
              "    const li = document.createElement('li');\n",
              "    li.append(span(file.name, {fontWeight: 'bold'}));\n",
              "    li.append(span(\n",
              "        `(${file.type || 'n/a'}) - ${file.size} bytes, ` +\n",
              "        `last modified: ${\n",
              "            file.lastModifiedDate ? file.lastModifiedDate.toLocaleDateString() :\n",
              "                                    'n/a'} - `));\n",
              "    const percent = span('0% done');\n",
              "    li.appendChild(percent);\n",
              "\n",
              "    outputElement.appendChild(li);\n",
              "\n",
              "    const fileDataPromise = new Promise((resolve) => {\n",
              "      const reader = new FileReader();\n",
              "      reader.onload = (e) => {\n",
              "        resolve(e.target.result);\n",
              "      };\n",
              "      reader.readAsArrayBuffer(file);\n",
              "    });\n",
              "    // Wait for the data to be ready.\n",
              "    let fileData = yield {\n",
              "      promise: fileDataPromise,\n",
              "      response: {\n",
              "        action: 'continue',\n",
              "      }\n",
              "    };\n",
              "\n",
              "    // Use a chunked sending to avoid message size limits. See b/62115660.\n",
              "    let position = 0;\n",
              "    do {\n",
              "      const length = Math.min(fileData.byteLength - position, MAX_PAYLOAD_SIZE);\n",
              "      const chunk = new Uint8Array(fileData, position, length);\n",
              "      position += length;\n",
              "\n",
              "      const base64 = btoa(String.fromCharCode.apply(null, chunk));\n",
              "      yield {\n",
              "        response: {\n",
              "          action: 'append',\n",
              "          file: file.name,\n",
              "          data: base64,\n",
              "        },\n",
              "      };\n",
              "\n",
              "      let percentDone = fileData.byteLength === 0 ?\n",
              "          100 :\n",
              "          Math.round((position / fileData.byteLength) * 100);\n",
              "      percent.textContent = `${percentDone}% done`;\n",
              "\n",
              "    } while (position < fileData.byteLength);\n",
              "  }\n",
              "\n",
              "  // All done.\n",
              "  yield {\n",
              "    response: {\n",
              "      action: 'complete',\n",
              "    }\n",
              "  };\n",
              "}\n",
              "\n",
              "scope.google = scope.google || {};\n",
              "scope.google.colab = scope.google.colab || {};\n",
              "scope.google.colab._files = {\n",
              "  _uploadFiles,\n",
              "  _uploadFilesContinue,\n",
              "};\n",
              "})(self);\n",
              "</script> "
            ]
          },
          "metadata": {}
        },
        {
          "output_type": "stream",
          "name": "stdout",
          "text": [
            "Saving Police.csv to Police.csv\n"
          ]
        }
      ]
    },
    {
      "cell_type": "code",
      "execution_count": 5,
      "id": "887b0c5d",
      "metadata": {
        "id": "887b0c5d"
      },
      "outputs": [],
      "source": [
        "# Import the dataset\n",
        "df=pd.read_csv('Police.csv')"
      ]
    },
    {
      "cell_type": "markdown",
      "source": [
        "# EXPLORATORY DATA ANALYSIS"
      ],
      "metadata": {
        "id": "YmzXYYWMf69T"
      },
      "id": "YmzXYYWMf69T"
    },
    {
      "cell_type": "code",
      "execution_count": null,
      "id": "c8cfb69a",
      "metadata": {
        "id": "c8cfb69a",
        "outputId": "ff9a5b36-ce31-4f3e-e542-c5552b8514f8"
      },
      "outputs": [
        {
          "data": {
            "text/html": [
              "<div>\n",
              "<style scoped>\n",
              "    .dataframe tbody tr th:only-of-type {\n",
              "        vertical-align: middle;\n",
              "    }\n",
              "\n",
              "    .dataframe tbody tr th {\n",
              "        vertical-align: top;\n",
              "    }\n",
              "\n",
              "    .dataframe thead th {\n",
              "        text-align: right;\n",
              "    }\n",
              "</style>\n",
              "<table border=\"1\" class=\"dataframe\">\n",
              "  <thead>\n",
              "    <tr style=\"text-align: right;\">\n",
              "      <th></th>\n",
              "      <th>Date</th>\n",
              "      <th>county_name</th>\n",
              "      <th>driver_gender</th>\n",
              "      <th>driver_age_raw</th>\n",
              "      <th>driver_age</th>\n",
              "      <th>driver_race</th>\n",
              "      <th>violation_raw</th>\n",
              "      <th>violation</th>\n",
              "      <th>search_conducted</th>\n",
              "      <th>search_type</th>\n",
              "      <th>stop_outcome</th>\n",
              "      <th>is_arrested</th>\n",
              "      <th>stop_duration</th>\n",
              "      <th>drugs_related_stop</th>\n",
              "    </tr>\n",
              "  </thead>\n",
              "  <tbody>\n",
              "    <tr>\n",
              "      <th>0</th>\n",
              "      <td>1/2/2005 1:55</td>\n",
              "      <td>NaN</td>\n",
              "      <td>M</td>\n",
              "      <td>1985.0</td>\n",
              "      <td>20.0</td>\n",
              "      <td>White</td>\n",
              "      <td>Speeding</td>\n",
              "      <td>Speeding</td>\n",
              "      <td>False</td>\n",
              "      <td>NaN</td>\n",
              "      <td>Citation</td>\n",
              "      <td>False</td>\n",
              "      <td>0-15 Min</td>\n",
              "      <td>False</td>\n",
              "    </tr>\n",
              "    <tr>\n",
              "      <th>1</th>\n",
              "      <td>1/18/2005 8:15</td>\n",
              "      <td>NaN</td>\n",
              "      <td>M</td>\n",
              "      <td>1965.0</td>\n",
              "      <td>40.0</td>\n",
              "      <td>White</td>\n",
              "      <td>Speeding</td>\n",
              "      <td>Speeding</td>\n",
              "      <td>False</td>\n",
              "      <td>NaN</td>\n",
              "      <td>Citation</td>\n",
              "      <td>False</td>\n",
              "      <td>0-15 Min</td>\n",
              "      <td>False</td>\n",
              "    </tr>\n",
              "    <tr>\n",
              "      <th>2</th>\n",
              "      <td>1/23/2005 23:15</td>\n",
              "      <td>NaN</td>\n",
              "      <td>M</td>\n",
              "      <td>1972.0</td>\n",
              "      <td>33.0</td>\n",
              "      <td>White</td>\n",
              "      <td>Speeding</td>\n",
              "      <td>Speeding</td>\n",
              "      <td>False</td>\n",
              "      <td>NaN</td>\n",
              "      <td>Citation</td>\n",
              "      <td>False</td>\n",
              "      <td>0-15 Min</td>\n",
              "      <td>False</td>\n",
              "    </tr>\n",
              "    <tr>\n",
              "      <th>3</th>\n",
              "      <td>2/20/2005 17:15</td>\n",
              "      <td>NaN</td>\n",
              "      <td>M</td>\n",
              "      <td>1986.0</td>\n",
              "      <td>19.0</td>\n",
              "      <td>White</td>\n",
              "      <td>Call for Service</td>\n",
              "      <td>Other</td>\n",
              "      <td>False</td>\n",
              "      <td>NaN</td>\n",
              "      <td>Arrest Driver</td>\n",
              "      <td>True</td>\n",
              "      <td>16-30 Min</td>\n",
              "      <td>False</td>\n",
              "    </tr>\n",
              "    <tr>\n",
              "      <th>4</th>\n",
              "      <td>3/14/2005 10:00</td>\n",
              "      <td>NaN</td>\n",
              "      <td>F</td>\n",
              "      <td>1984.0</td>\n",
              "      <td>21.0</td>\n",
              "      <td>White</td>\n",
              "      <td>Speeding</td>\n",
              "      <td>Speeding</td>\n",
              "      <td>False</td>\n",
              "      <td>NaN</td>\n",
              "      <td>Citation</td>\n",
              "      <td>False</td>\n",
              "      <td>0-15 Min</td>\n",
              "      <td>False</td>\n",
              "    </tr>\n",
              "    <tr>\n",
              "      <th>...</th>\n",
              "      <td>...</td>\n",
              "      <td>...</td>\n",
              "      <td>...</td>\n",
              "      <td>...</td>\n",
              "      <td>...</td>\n",
              "      <td>...</td>\n",
              "      <td>...</td>\n",
              "      <td>...</td>\n",
              "      <td>...</td>\n",
              "      <td>...</td>\n",
              "      <td>...</td>\n",
              "      <td>...</td>\n",
              "      <td>...</td>\n",
              "      <td>...</td>\n",
              "    </tr>\n",
              "    <tr>\n",
              "      <th>91735</th>\n",
              "      <td>12/31/2015 20:25</td>\n",
              "      <td>NaN</td>\n",
              "      <td>M</td>\n",
              "      <td>1992.0</td>\n",
              "      <td>23.0</td>\n",
              "      <td>Hispanic</td>\n",
              "      <td>Speeding</td>\n",
              "      <td>Speeding</td>\n",
              "      <td>False</td>\n",
              "      <td>NaN</td>\n",
              "      <td>Citation</td>\n",
              "      <td>False</td>\n",
              "      <td>0-15 Min</td>\n",
              "      <td>False</td>\n",
              "    </tr>\n",
              "    <tr>\n",
              "      <th>91736</th>\n",
              "      <td>12/31/2015 20:27</td>\n",
              "      <td>NaN</td>\n",
              "      <td>M</td>\n",
              "      <td>1986.0</td>\n",
              "      <td>29.0</td>\n",
              "      <td>White</td>\n",
              "      <td>Speeding</td>\n",
              "      <td>Speeding</td>\n",
              "      <td>False</td>\n",
              "      <td>NaN</td>\n",
              "      <td>Warning</td>\n",
              "      <td>False</td>\n",
              "      <td>0-15 Min</td>\n",
              "      <td>False</td>\n",
              "    </tr>\n",
              "    <tr>\n",
              "      <th>91737</th>\n",
              "      <td>12/31/2015 20:35</td>\n",
              "      <td>NaN</td>\n",
              "      <td>F</td>\n",
              "      <td>1982.0</td>\n",
              "      <td>33.0</td>\n",
              "      <td>White</td>\n",
              "      <td>Equipment/Inspection Violation</td>\n",
              "      <td>Equipment</td>\n",
              "      <td>False</td>\n",
              "      <td>NaN</td>\n",
              "      <td>Warning</td>\n",
              "      <td>False</td>\n",
              "      <td>0-15 Min</td>\n",
              "      <td>False</td>\n",
              "    </tr>\n",
              "    <tr>\n",
              "      <th>91738</th>\n",
              "      <td>12/31/2015 20:45</td>\n",
              "      <td>NaN</td>\n",
              "      <td>M</td>\n",
              "      <td>1992.0</td>\n",
              "      <td>23.0</td>\n",
              "      <td>White</td>\n",
              "      <td>Other Traffic Violation</td>\n",
              "      <td>Moving violation</td>\n",
              "      <td>False</td>\n",
              "      <td>NaN</td>\n",
              "      <td>Warning</td>\n",
              "      <td>False</td>\n",
              "      <td>0-15 Min</td>\n",
              "      <td>False</td>\n",
              "    </tr>\n",
              "    <tr>\n",
              "      <th>91739</th>\n",
              "      <td>12/31/2015 21:42</td>\n",
              "      <td>NaN</td>\n",
              "      <td>M</td>\n",
              "      <td>1993.0</td>\n",
              "      <td>22.0</td>\n",
              "      <td>White</td>\n",
              "      <td>Speeding</td>\n",
              "      <td>Speeding</td>\n",
              "      <td>False</td>\n",
              "      <td>NaN</td>\n",
              "      <td>Citation</td>\n",
              "      <td>False</td>\n",
              "      <td>0-15 Min</td>\n",
              "      <td>False</td>\n",
              "    </tr>\n",
              "  </tbody>\n",
              "</table>\n",
              "<p>91740 rows × 14 columns</p>\n",
              "</div>"
            ],
            "text/plain": [
              "                   Date  county_name driver_gender  driver_age_raw  \\\n",
              "0         1/2/2005 1:55          NaN             M          1985.0   \n",
              "1        1/18/2005 8:15          NaN             M          1965.0   \n",
              "2       1/23/2005 23:15          NaN             M          1972.0   \n",
              "3       2/20/2005 17:15          NaN             M          1986.0   \n",
              "4       3/14/2005 10:00          NaN             F          1984.0   \n",
              "...                 ...          ...           ...             ...   \n",
              "91735  12/31/2015 20:25          NaN             M          1992.0   \n",
              "91736  12/31/2015 20:27          NaN             M          1986.0   \n",
              "91737  12/31/2015 20:35          NaN             F          1982.0   \n",
              "91738  12/31/2015 20:45          NaN             M          1992.0   \n",
              "91739  12/31/2015 21:42          NaN             M          1993.0   \n",
              "\n",
              "       driver_age driver_race                   violation_raw  \\\n",
              "0            20.0       White                        Speeding   \n",
              "1            40.0       White                        Speeding   \n",
              "2            33.0       White                        Speeding   \n",
              "3            19.0       White                Call for Service   \n",
              "4            21.0       White                        Speeding   \n",
              "...           ...         ...                             ...   \n",
              "91735        23.0    Hispanic                        Speeding   \n",
              "91736        29.0       White                        Speeding   \n",
              "91737        33.0       White  Equipment/Inspection Violation   \n",
              "91738        23.0       White         Other Traffic Violation   \n",
              "91739        22.0       White                        Speeding   \n",
              "\n",
              "              violation  search_conducted search_type   stop_outcome  \\\n",
              "0              Speeding             False         NaN       Citation   \n",
              "1              Speeding             False         NaN       Citation   \n",
              "2              Speeding             False         NaN       Citation   \n",
              "3                 Other             False         NaN  Arrest Driver   \n",
              "4              Speeding             False         NaN       Citation   \n",
              "...                 ...               ...         ...            ...   \n",
              "91735          Speeding             False         NaN       Citation   \n",
              "91736          Speeding             False         NaN        Warning   \n",
              "91737         Equipment             False         NaN        Warning   \n",
              "91738  Moving violation             False         NaN        Warning   \n",
              "91739          Speeding             False         NaN       Citation   \n",
              "\n",
              "      is_arrested stop_duration  drugs_related_stop  \n",
              "0           False      0-15 Min               False  \n",
              "1           False      0-15 Min               False  \n",
              "2           False      0-15 Min               False  \n",
              "3            True     16-30 Min               False  \n",
              "4           False      0-15 Min               False  \n",
              "...           ...           ...                 ...  \n",
              "91735       False      0-15 Min               False  \n",
              "91736       False      0-15 Min               False  \n",
              "91737       False      0-15 Min               False  \n",
              "91738       False      0-15 Min               False  \n",
              "91739       False      0-15 Min               False  \n",
              "\n",
              "[91740 rows x 14 columns]"
            ]
          },
          "execution_count": 3,
          "metadata": {},
          "output_type": "execute_result"
        }
      ],
      "source": [
        "# Take a glance at the dataset head and tail\n",
        "df.head(-1)"
      ]
    },
    {
      "cell_type": "code",
      "execution_count": 6,
      "id": "d109bf0e",
      "metadata": {
        "colab": {
          "base_uri": "https://localhost:8080/"
        },
        "id": "d109bf0e",
        "outputId": "344343b0-2d03-4099-d31e-56fb17c444d8"
      },
      "outputs": [
        {
          "output_type": "execute_result",
          "data": {
            "text/plain": [
              "Index(['Date', 'county_name', 'driver_gender', 'driver_age_raw', 'driver_age',\n",
              "       'driver_race', 'violation_raw', 'violation', 'search_conducted',\n",
              "       'search_type', 'stop_outcome', 'is_arrested', 'stop_duration',\n",
              "       'drugs_related_stop'],\n",
              "      dtype='object')"
            ]
          },
          "metadata": {},
          "execution_count": 6
        }
      ],
      "source": [
        "# Looking at the dataset columns\n",
        "df.columns"
      ]
    },
    {
      "cell_type": "code",
      "execution_count": 7,
      "id": "3d7815cf",
      "metadata": {
        "colab": {
          "base_uri": "https://localhost:8080/"
        },
        "id": "3d7815cf",
        "outputId": "97aedbd3-0f67-437e-8f46-27ed769a69c0"
      },
      "outputs": [
        {
          "output_type": "execute_result",
          "data": {
            "text/plain": [
              "(91741, 14)"
            ]
          },
          "metadata": {},
          "execution_count": 7
        }
      ],
      "source": [
        "df.shape"
      ]
    },
    {
      "cell_type": "markdown",
      "id": "4bb61843",
      "metadata": {
        "id": "4bb61843"
      },
      "source": [
        "The dataset has 91741 rows and 14 columns"
      ]
    },
    {
      "cell_type": "markdown",
      "id": "b7a9792f",
      "metadata": {
        "id": "b7a9792f"
      },
      "source": [
        "Let us look out for null values in the dataset to see if we can clean it."
      ]
    },
    {
      "cell_type": "code",
      "execution_count": 8,
      "id": "57d5f572",
      "metadata": {
        "colab": {
          "base_uri": "https://localhost:8080/"
        },
        "id": "57d5f572",
        "outputId": "4cc3f9dd-2907-47b7-d5dd-8f070023a337"
      },
      "outputs": [
        {
          "output_type": "execute_result",
          "data": {
            "text/plain": [
              "Date                      0\n",
              "county_name           91741\n",
              "driver_gender          5335\n",
              "driver_age_raw         5327\n",
              "driver_age             5621\n",
              "driver_race            5333\n",
              "violation_raw          5333\n",
              "violation              5333\n",
              "search_conducted          0\n",
              "search_type           88545\n",
              "stop_outcome           5333\n",
              "is_arrested            5333\n",
              "stop_duration          5333\n",
              "drugs_related_stop        0\n",
              "dtype: int64"
            ]
          },
          "metadata": {},
          "execution_count": 8
        }
      ],
      "source": [
        "df.isnull().sum()"
      ]
    },
    {
      "cell_type": "markdown",
      "id": "2378f552",
      "metadata": {
        "id": "2378f552"
      },
      "source": [
        "The dataset has very many null values infact columns 'county_name'and 'search_type' will be dropped since most of the values they contain are null that is more than 95% of there values."
      ]
    },
    {
      "cell_type": "code",
      "execution_count": 9,
      "id": "83ee462f",
      "metadata": {
        "id": "83ee462f"
      },
      "outputs": [],
      "source": [
        "df=df.drop(columns=['county_name','search_type'])"
      ]
    },
    {
      "cell_type": "markdown",
      "id": "227a3c16",
      "metadata": {
        "id": "227a3c16"
      },
      "source": [
        "Drop all the other null valls in other columns.These are taking up about 5% of there respective columns"
      ]
    },
    {
      "cell_type": "code",
      "execution_count": 10,
      "id": "6a12a3da",
      "metadata": {
        "id": "6a12a3da"
      },
      "outputs": [],
      "source": [
        "df=df.dropna()"
      ]
    },
    {
      "cell_type": "markdown",
      "id": "35624d40",
      "metadata": {
        "id": "35624d40"
      },
      "source": [
        "Now let us see how our dataset looks like"
      ]
    },
    {
      "cell_type": "code",
      "execution_count": 11,
      "id": "b87d9f4c",
      "metadata": {
        "colab": {
          "base_uri": "https://localhost:8080/",
          "height": 661
        },
        "id": "b87d9f4c",
        "outputId": "c34e5f8a-8792-4928-b089-5c1478659839"
      },
      "outputs": [
        {
          "output_type": "execute_result",
          "data": {
            "text/plain": [
              "                   Date driver_gender  driver_age_raw  driver_age driver_race  \\\n",
              "0         1/2/2005 1:55             M          1985.0        20.0       White   \n",
              "1        1/18/2005 8:15             M          1965.0        40.0       White   \n",
              "2       1/23/2005 23:15             M          1972.0        33.0       White   \n",
              "3       2/20/2005 17:15             M          1986.0        19.0       White   \n",
              "4       3/14/2005 10:00             F          1984.0        21.0       White   \n",
              "...                 ...           ...             ...         ...         ...   \n",
              "91736  12/31/2015 20:27             M          1986.0        29.0       White   \n",
              "91737  12/31/2015 20:35             F          1982.0        33.0       White   \n",
              "91738  12/31/2015 20:45             M          1992.0        23.0       White   \n",
              "91739  12/31/2015 21:42             M          1993.0        22.0       White   \n",
              "91740  12/31/2015 22:46             M          1959.0        56.0    Hispanic   \n",
              "\n",
              "                        violation_raw         violation  search_conducted  \\\n",
              "0                            Speeding          Speeding             False   \n",
              "1                            Speeding          Speeding             False   \n",
              "2                            Speeding          Speeding             False   \n",
              "3                    Call for Service             Other             False   \n",
              "4                            Speeding          Speeding             False   \n",
              "...                               ...               ...               ...   \n",
              "91736                        Speeding          Speeding             False   \n",
              "91737  Equipment/Inspection Violation         Equipment             False   \n",
              "91738         Other Traffic Violation  Moving violation             False   \n",
              "91739                        Speeding          Speeding             False   \n",
              "91740                        Speeding          Speeding             False   \n",
              "\n",
              "        stop_outcome is_arrested stop_duration  drugs_related_stop  \n",
              "0           Citation       False      0-15 Min               False  \n",
              "1           Citation       False      0-15 Min               False  \n",
              "2           Citation       False      0-15 Min               False  \n",
              "3      Arrest Driver        True     16-30 Min               False  \n",
              "4           Citation       False      0-15 Min               False  \n",
              "...              ...         ...           ...                 ...  \n",
              "91736        Warning       False      0-15 Min               False  \n",
              "91737        Warning       False      0-15 Min               False  \n",
              "91738        Warning       False      0-15 Min               False  \n",
              "91739       Citation       False      0-15 Min               False  \n",
              "91740       Citation       False      0-15 Min               False  \n",
              "\n",
              "[86113 rows x 12 columns]"
            ],
            "text/html": [
              "\n",
              "  <div id=\"df-36adb8d4-151c-40db-87e7-bea0533718ac\">\n",
              "    <div class=\"colab-df-container\">\n",
              "      <div>\n",
              "<style scoped>\n",
              "    .dataframe tbody tr th:only-of-type {\n",
              "        vertical-align: middle;\n",
              "    }\n",
              "\n",
              "    .dataframe tbody tr th {\n",
              "        vertical-align: top;\n",
              "    }\n",
              "\n",
              "    .dataframe thead th {\n",
              "        text-align: right;\n",
              "    }\n",
              "</style>\n",
              "<table border=\"1\" class=\"dataframe\">\n",
              "  <thead>\n",
              "    <tr style=\"text-align: right;\">\n",
              "      <th></th>\n",
              "      <th>Date</th>\n",
              "      <th>driver_gender</th>\n",
              "      <th>driver_age_raw</th>\n",
              "      <th>driver_age</th>\n",
              "      <th>driver_race</th>\n",
              "      <th>violation_raw</th>\n",
              "      <th>violation</th>\n",
              "      <th>search_conducted</th>\n",
              "      <th>stop_outcome</th>\n",
              "      <th>is_arrested</th>\n",
              "      <th>stop_duration</th>\n",
              "      <th>drugs_related_stop</th>\n",
              "    </tr>\n",
              "  </thead>\n",
              "  <tbody>\n",
              "    <tr>\n",
              "      <th>0</th>\n",
              "      <td>1/2/2005 1:55</td>\n",
              "      <td>M</td>\n",
              "      <td>1985.0</td>\n",
              "      <td>20.0</td>\n",
              "      <td>White</td>\n",
              "      <td>Speeding</td>\n",
              "      <td>Speeding</td>\n",
              "      <td>False</td>\n",
              "      <td>Citation</td>\n",
              "      <td>False</td>\n",
              "      <td>0-15 Min</td>\n",
              "      <td>False</td>\n",
              "    </tr>\n",
              "    <tr>\n",
              "      <th>1</th>\n",
              "      <td>1/18/2005 8:15</td>\n",
              "      <td>M</td>\n",
              "      <td>1965.0</td>\n",
              "      <td>40.0</td>\n",
              "      <td>White</td>\n",
              "      <td>Speeding</td>\n",
              "      <td>Speeding</td>\n",
              "      <td>False</td>\n",
              "      <td>Citation</td>\n",
              "      <td>False</td>\n",
              "      <td>0-15 Min</td>\n",
              "      <td>False</td>\n",
              "    </tr>\n",
              "    <tr>\n",
              "      <th>2</th>\n",
              "      <td>1/23/2005 23:15</td>\n",
              "      <td>M</td>\n",
              "      <td>1972.0</td>\n",
              "      <td>33.0</td>\n",
              "      <td>White</td>\n",
              "      <td>Speeding</td>\n",
              "      <td>Speeding</td>\n",
              "      <td>False</td>\n",
              "      <td>Citation</td>\n",
              "      <td>False</td>\n",
              "      <td>0-15 Min</td>\n",
              "      <td>False</td>\n",
              "    </tr>\n",
              "    <tr>\n",
              "      <th>3</th>\n",
              "      <td>2/20/2005 17:15</td>\n",
              "      <td>M</td>\n",
              "      <td>1986.0</td>\n",
              "      <td>19.0</td>\n",
              "      <td>White</td>\n",
              "      <td>Call for Service</td>\n",
              "      <td>Other</td>\n",
              "      <td>False</td>\n",
              "      <td>Arrest Driver</td>\n",
              "      <td>True</td>\n",
              "      <td>16-30 Min</td>\n",
              "      <td>False</td>\n",
              "    </tr>\n",
              "    <tr>\n",
              "      <th>4</th>\n",
              "      <td>3/14/2005 10:00</td>\n",
              "      <td>F</td>\n",
              "      <td>1984.0</td>\n",
              "      <td>21.0</td>\n",
              "      <td>White</td>\n",
              "      <td>Speeding</td>\n",
              "      <td>Speeding</td>\n",
              "      <td>False</td>\n",
              "      <td>Citation</td>\n",
              "      <td>False</td>\n",
              "      <td>0-15 Min</td>\n",
              "      <td>False</td>\n",
              "    </tr>\n",
              "    <tr>\n",
              "      <th>...</th>\n",
              "      <td>...</td>\n",
              "      <td>...</td>\n",
              "      <td>...</td>\n",
              "      <td>...</td>\n",
              "      <td>...</td>\n",
              "      <td>...</td>\n",
              "      <td>...</td>\n",
              "      <td>...</td>\n",
              "      <td>...</td>\n",
              "      <td>...</td>\n",
              "      <td>...</td>\n",
              "      <td>...</td>\n",
              "    </tr>\n",
              "    <tr>\n",
              "      <th>91736</th>\n",
              "      <td>12/31/2015 20:27</td>\n",
              "      <td>M</td>\n",
              "      <td>1986.0</td>\n",
              "      <td>29.0</td>\n",
              "      <td>White</td>\n",
              "      <td>Speeding</td>\n",
              "      <td>Speeding</td>\n",
              "      <td>False</td>\n",
              "      <td>Warning</td>\n",
              "      <td>False</td>\n",
              "      <td>0-15 Min</td>\n",
              "      <td>False</td>\n",
              "    </tr>\n",
              "    <tr>\n",
              "      <th>91737</th>\n",
              "      <td>12/31/2015 20:35</td>\n",
              "      <td>F</td>\n",
              "      <td>1982.0</td>\n",
              "      <td>33.0</td>\n",
              "      <td>White</td>\n",
              "      <td>Equipment/Inspection Violation</td>\n",
              "      <td>Equipment</td>\n",
              "      <td>False</td>\n",
              "      <td>Warning</td>\n",
              "      <td>False</td>\n",
              "      <td>0-15 Min</td>\n",
              "      <td>False</td>\n",
              "    </tr>\n",
              "    <tr>\n",
              "      <th>91738</th>\n",
              "      <td>12/31/2015 20:45</td>\n",
              "      <td>M</td>\n",
              "      <td>1992.0</td>\n",
              "      <td>23.0</td>\n",
              "      <td>White</td>\n",
              "      <td>Other Traffic Violation</td>\n",
              "      <td>Moving violation</td>\n",
              "      <td>False</td>\n",
              "      <td>Warning</td>\n",
              "      <td>False</td>\n",
              "      <td>0-15 Min</td>\n",
              "      <td>False</td>\n",
              "    </tr>\n",
              "    <tr>\n",
              "      <th>91739</th>\n",
              "      <td>12/31/2015 21:42</td>\n",
              "      <td>M</td>\n",
              "      <td>1993.0</td>\n",
              "      <td>22.0</td>\n",
              "      <td>White</td>\n",
              "      <td>Speeding</td>\n",
              "      <td>Speeding</td>\n",
              "      <td>False</td>\n",
              "      <td>Citation</td>\n",
              "      <td>False</td>\n",
              "      <td>0-15 Min</td>\n",
              "      <td>False</td>\n",
              "    </tr>\n",
              "    <tr>\n",
              "      <th>91740</th>\n",
              "      <td>12/31/2015 22:46</td>\n",
              "      <td>M</td>\n",
              "      <td>1959.0</td>\n",
              "      <td>56.0</td>\n",
              "      <td>Hispanic</td>\n",
              "      <td>Speeding</td>\n",
              "      <td>Speeding</td>\n",
              "      <td>False</td>\n",
              "      <td>Citation</td>\n",
              "      <td>False</td>\n",
              "      <td>0-15 Min</td>\n",
              "      <td>False</td>\n",
              "    </tr>\n",
              "  </tbody>\n",
              "</table>\n",
              "<p>86113 rows × 12 columns</p>\n",
              "</div>\n",
              "      <button class=\"colab-df-convert\" onclick=\"convertToInteractive('df-36adb8d4-151c-40db-87e7-bea0533718ac')\"\n",
              "              title=\"Convert this dataframe to an interactive table.\"\n",
              "              style=\"display:none;\">\n",
              "        \n",
              "  <svg xmlns=\"http://www.w3.org/2000/svg\" height=\"24px\"viewBox=\"0 0 24 24\"\n",
              "       width=\"24px\">\n",
              "    <path d=\"M0 0h24v24H0V0z\" fill=\"none\"/>\n",
              "    <path d=\"M18.56 5.44l.94 2.06.94-2.06 2.06-.94-2.06-.94-.94-2.06-.94 2.06-2.06.94zm-11 1L8.5 8.5l.94-2.06 2.06-.94-2.06-.94L8.5 2.5l-.94 2.06-2.06.94zm10 10l.94 2.06.94-2.06 2.06-.94-2.06-.94-.94-2.06-.94 2.06-2.06.94z\"/><path d=\"M17.41 7.96l-1.37-1.37c-.4-.4-.92-.59-1.43-.59-.52 0-1.04.2-1.43.59L10.3 9.45l-7.72 7.72c-.78.78-.78 2.05 0 2.83L4 21.41c.39.39.9.59 1.41.59.51 0 1.02-.2 1.41-.59l7.78-7.78 2.81-2.81c.8-.78.8-2.07 0-2.86zM5.41 20L4 18.59l7.72-7.72 1.47 1.35L5.41 20z\"/>\n",
              "  </svg>\n",
              "      </button>\n",
              "      \n",
              "  <style>\n",
              "    .colab-df-container {\n",
              "      display:flex;\n",
              "      flex-wrap:wrap;\n",
              "      gap: 12px;\n",
              "    }\n",
              "\n",
              "    .colab-df-convert {\n",
              "      background-color: #E8F0FE;\n",
              "      border: none;\n",
              "      border-radius: 50%;\n",
              "      cursor: pointer;\n",
              "      display: none;\n",
              "      fill: #1967D2;\n",
              "      height: 32px;\n",
              "      padding: 0 0 0 0;\n",
              "      width: 32px;\n",
              "    }\n",
              "\n",
              "    .colab-df-convert:hover {\n",
              "      background-color: #E2EBFA;\n",
              "      box-shadow: 0px 1px 2px rgba(60, 64, 67, 0.3), 0px 1px 3px 1px rgba(60, 64, 67, 0.15);\n",
              "      fill: #174EA6;\n",
              "    }\n",
              "\n",
              "    [theme=dark] .colab-df-convert {\n",
              "      background-color: #3B4455;\n",
              "      fill: #D2E3FC;\n",
              "    }\n",
              "\n",
              "    [theme=dark] .colab-df-convert:hover {\n",
              "      background-color: #434B5C;\n",
              "      box-shadow: 0px 1px 3px 1px rgba(0, 0, 0, 0.15);\n",
              "      filter: drop-shadow(0px 1px 2px rgba(0, 0, 0, 0.3));\n",
              "      fill: #FFFFFF;\n",
              "    }\n",
              "  </style>\n",
              "\n",
              "      <script>\n",
              "        const buttonEl =\n",
              "          document.querySelector('#df-36adb8d4-151c-40db-87e7-bea0533718ac button.colab-df-convert');\n",
              "        buttonEl.style.display =\n",
              "          google.colab.kernel.accessAllowed ? 'block' : 'none';\n",
              "\n",
              "        async function convertToInteractive(key) {\n",
              "          const element = document.querySelector('#df-36adb8d4-151c-40db-87e7-bea0533718ac');\n",
              "          const dataTable =\n",
              "            await google.colab.kernel.invokeFunction('convertToInteractive',\n",
              "                                                     [key], {});\n",
              "          if (!dataTable) return;\n",
              "\n",
              "          const docLinkHtml = 'Like what you see? Visit the ' +\n",
              "            '<a target=\"_blank\" href=https://colab.research.google.com/notebooks/data_table.ipynb>data table notebook</a>'\n",
              "            + ' to learn more about interactive tables.';\n",
              "          element.innerHTML = '';\n",
              "          dataTable['output_type'] = 'display_data';\n",
              "          await google.colab.output.renderOutput(dataTable, element);\n",
              "          const docLink = document.createElement('div');\n",
              "          docLink.innerHTML = docLinkHtml;\n",
              "          element.appendChild(docLink);\n",
              "        }\n",
              "      </script>\n",
              "    </div>\n",
              "  </div>\n",
              "  "
            ]
          },
          "metadata": {},
          "execution_count": 11
        }
      ],
      "source": [
        "df"
      ]
    },
    {
      "cell_type": "markdown",
      "id": "bcb16a02",
      "metadata": {
        "id": "bcb16a02"
      },
      "source": [
        "Our dataset now has 86113 rows from 91741 rows before removing null values and also has 12 columns from the 14 before dropping the 2 columns"
      ]
    },
    {
      "cell_type": "markdown",
      "id": "ccd8c5ba",
      "metadata": {
        "id": "ccd8c5ba"
      },
      "source": [
        "This data needs more cleaning. Let us drop duplicate values if they exist"
      ]
    },
    {
      "cell_type": "code",
      "execution_count": 12,
      "id": "90b4f24d",
      "metadata": {
        "colab": {
          "base_uri": "https://localhost:8080/",
          "height": 661
        },
        "id": "90b4f24d",
        "outputId": "3cfc95f9-3c41-43ee-8c66-24fa8a72d1e0"
      },
      "outputs": [
        {
          "output_type": "execute_result",
          "data": {
            "text/plain": [
              "                   Date driver_gender  driver_age_raw  driver_age driver_race  \\\n",
              "0         1/2/2005 1:55             M          1985.0        20.0       White   \n",
              "1        1/18/2005 8:15             M          1965.0        40.0       White   \n",
              "2       1/23/2005 23:15             M          1972.0        33.0       White   \n",
              "3       2/20/2005 17:15             M          1986.0        19.0       White   \n",
              "4       3/14/2005 10:00             F          1984.0        21.0       White   \n",
              "...                 ...           ...             ...         ...         ...   \n",
              "91736  12/31/2015 20:27             M          1986.0        29.0       White   \n",
              "91737  12/31/2015 20:35             F          1982.0        33.0       White   \n",
              "91738  12/31/2015 20:45             M          1992.0        23.0       White   \n",
              "91739  12/31/2015 21:42             M          1993.0        22.0       White   \n",
              "91740  12/31/2015 22:46             M          1959.0        56.0    Hispanic   \n",
              "\n",
              "                        violation_raw         violation  search_conducted  \\\n",
              "0                            Speeding          Speeding             False   \n",
              "1                            Speeding          Speeding             False   \n",
              "2                            Speeding          Speeding             False   \n",
              "3                    Call for Service             Other             False   \n",
              "4                            Speeding          Speeding             False   \n",
              "...                               ...               ...               ...   \n",
              "91736                        Speeding          Speeding             False   \n",
              "91737  Equipment/Inspection Violation         Equipment             False   \n",
              "91738         Other Traffic Violation  Moving violation             False   \n",
              "91739                        Speeding          Speeding             False   \n",
              "91740                        Speeding          Speeding             False   \n",
              "\n",
              "        stop_outcome is_arrested stop_duration  drugs_related_stop  \n",
              "0           Citation       False      0-15 Min               False  \n",
              "1           Citation       False      0-15 Min               False  \n",
              "2           Citation       False      0-15 Min               False  \n",
              "3      Arrest Driver        True     16-30 Min               False  \n",
              "4           Citation       False      0-15 Min               False  \n",
              "...              ...         ...           ...                 ...  \n",
              "91736        Warning       False      0-15 Min               False  \n",
              "91737        Warning       False      0-15 Min               False  \n",
              "91738        Warning       False      0-15 Min               False  \n",
              "91739       Citation       False      0-15 Min               False  \n",
              "91740       Citation       False      0-15 Min               False  \n",
              "\n",
              "[85590 rows x 12 columns]"
            ],
            "text/html": [
              "\n",
              "  <div id=\"df-f69a0cc0-e212-4de2-80ae-3a1710d28332\">\n",
              "    <div class=\"colab-df-container\">\n",
              "      <div>\n",
              "<style scoped>\n",
              "    .dataframe tbody tr th:only-of-type {\n",
              "        vertical-align: middle;\n",
              "    }\n",
              "\n",
              "    .dataframe tbody tr th {\n",
              "        vertical-align: top;\n",
              "    }\n",
              "\n",
              "    .dataframe thead th {\n",
              "        text-align: right;\n",
              "    }\n",
              "</style>\n",
              "<table border=\"1\" class=\"dataframe\">\n",
              "  <thead>\n",
              "    <tr style=\"text-align: right;\">\n",
              "      <th></th>\n",
              "      <th>Date</th>\n",
              "      <th>driver_gender</th>\n",
              "      <th>driver_age_raw</th>\n",
              "      <th>driver_age</th>\n",
              "      <th>driver_race</th>\n",
              "      <th>violation_raw</th>\n",
              "      <th>violation</th>\n",
              "      <th>search_conducted</th>\n",
              "      <th>stop_outcome</th>\n",
              "      <th>is_arrested</th>\n",
              "      <th>stop_duration</th>\n",
              "      <th>drugs_related_stop</th>\n",
              "    </tr>\n",
              "  </thead>\n",
              "  <tbody>\n",
              "    <tr>\n",
              "      <th>0</th>\n",
              "      <td>1/2/2005 1:55</td>\n",
              "      <td>M</td>\n",
              "      <td>1985.0</td>\n",
              "      <td>20.0</td>\n",
              "      <td>White</td>\n",
              "      <td>Speeding</td>\n",
              "      <td>Speeding</td>\n",
              "      <td>False</td>\n",
              "      <td>Citation</td>\n",
              "      <td>False</td>\n",
              "      <td>0-15 Min</td>\n",
              "      <td>False</td>\n",
              "    </tr>\n",
              "    <tr>\n",
              "      <th>1</th>\n",
              "      <td>1/18/2005 8:15</td>\n",
              "      <td>M</td>\n",
              "      <td>1965.0</td>\n",
              "      <td>40.0</td>\n",
              "      <td>White</td>\n",
              "      <td>Speeding</td>\n",
              "      <td>Speeding</td>\n",
              "      <td>False</td>\n",
              "      <td>Citation</td>\n",
              "      <td>False</td>\n",
              "      <td>0-15 Min</td>\n",
              "      <td>False</td>\n",
              "    </tr>\n",
              "    <tr>\n",
              "      <th>2</th>\n",
              "      <td>1/23/2005 23:15</td>\n",
              "      <td>M</td>\n",
              "      <td>1972.0</td>\n",
              "      <td>33.0</td>\n",
              "      <td>White</td>\n",
              "      <td>Speeding</td>\n",
              "      <td>Speeding</td>\n",
              "      <td>False</td>\n",
              "      <td>Citation</td>\n",
              "      <td>False</td>\n",
              "      <td>0-15 Min</td>\n",
              "      <td>False</td>\n",
              "    </tr>\n",
              "    <tr>\n",
              "      <th>3</th>\n",
              "      <td>2/20/2005 17:15</td>\n",
              "      <td>M</td>\n",
              "      <td>1986.0</td>\n",
              "      <td>19.0</td>\n",
              "      <td>White</td>\n",
              "      <td>Call for Service</td>\n",
              "      <td>Other</td>\n",
              "      <td>False</td>\n",
              "      <td>Arrest Driver</td>\n",
              "      <td>True</td>\n",
              "      <td>16-30 Min</td>\n",
              "      <td>False</td>\n",
              "    </tr>\n",
              "    <tr>\n",
              "      <th>4</th>\n",
              "      <td>3/14/2005 10:00</td>\n",
              "      <td>F</td>\n",
              "      <td>1984.0</td>\n",
              "      <td>21.0</td>\n",
              "      <td>White</td>\n",
              "      <td>Speeding</td>\n",
              "      <td>Speeding</td>\n",
              "      <td>False</td>\n",
              "      <td>Citation</td>\n",
              "      <td>False</td>\n",
              "      <td>0-15 Min</td>\n",
              "      <td>False</td>\n",
              "    </tr>\n",
              "    <tr>\n",
              "      <th>...</th>\n",
              "      <td>...</td>\n",
              "      <td>...</td>\n",
              "      <td>...</td>\n",
              "      <td>...</td>\n",
              "      <td>...</td>\n",
              "      <td>...</td>\n",
              "      <td>...</td>\n",
              "      <td>...</td>\n",
              "      <td>...</td>\n",
              "      <td>...</td>\n",
              "      <td>...</td>\n",
              "      <td>...</td>\n",
              "    </tr>\n",
              "    <tr>\n",
              "      <th>91736</th>\n",
              "      <td>12/31/2015 20:27</td>\n",
              "      <td>M</td>\n",
              "      <td>1986.0</td>\n",
              "      <td>29.0</td>\n",
              "      <td>White</td>\n",
              "      <td>Speeding</td>\n",
              "      <td>Speeding</td>\n",
              "      <td>False</td>\n",
              "      <td>Warning</td>\n",
              "      <td>False</td>\n",
              "      <td>0-15 Min</td>\n",
              "      <td>False</td>\n",
              "    </tr>\n",
              "    <tr>\n",
              "      <th>91737</th>\n",
              "      <td>12/31/2015 20:35</td>\n",
              "      <td>F</td>\n",
              "      <td>1982.0</td>\n",
              "      <td>33.0</td>\n",
              "      <td>White</td>\n",
              "      <td>Equipment/Inspection Violation</td>\n",
              "      <td>Equipment</td>\n",
              "      <td>False</td>\n",
              "      <td>Warning</td>\n",
              "      <td>False</td>\n",
              "      <td>0-15 Min</td>\n",
              "      <td>False</td>\n",
              "    </tr>\n",
              "    <tr>\n",
              "      <th>91738</th>\n",
              "      <td>12/31/2015 20:45</td>\n",
              "      <td>M</td>\n",
              "      <td>1992.0</td>\n",
              "      <td>23.0</td>\n",
              "      <td>White</td>\n",
              "      <td>Other Traffic Violation</td>\n",
              "      <td>Moving violation</td>\n",
              "      <td>False</td>\n",
              "      <td>Warning</td>\n",
              "      <td>False</td>\n",
              "      <td>0-15 Min</td>\n",
              "      <td>False</td>\n",
              "    </tr>\n",
              "    <tr>\n",
              "      <th>91739</th>\n",
              "      <td>12/31/2015 21:42</td>\n",
              "      <td>M</td>\n",
              "      <td>1993.0</td>\n",
              "      <td>22.0</td>\n",
              "      <td>White</td>\n",
              "      <td>Speeding</td>\n",
              "      <td>Speeding</td>\n",
              "      <td>False</td>\n",
              "      <td>Citation</td>\n",
              "      <td>False</td>\n",
              "      <td>0-15 Min</td>\n",
              "      <td>False</td>\n",
              "    </tr>\n",
              "    <tr>\n",
              "      <th>91740</th>\n",
              "      <td>12/31/2015 22:46</td>\n",
              "      <td>M</td>\n",
              "      <td>1959.0</td>\n",
              "      <td>56.0</td>\n",
              "      <td>Hispanic</td>\n",
              "      <td>Speeding</td>\n",
              "      <td>Speeding</td>\n",
              "      <td>False</td>\n",
              "      <td>Citation</td>\n",
              "      <td>False</td>\n",
              "      <td>0-15 Min</td>\n",
              "      <td>False</td>\n",
              "    </tr>\n",
              "  </tbody>\n",
              "</table>\n",
              "<p>85590 rows × 12 columns</p>\n",
              "</div>\n",
              "      <button class=\"colab-df-convert\" onclick=\"convertToInteractive('df-f69a0cc0-e212-4de2-80ae-3a1710d28332')\"\n",
              "              title=\"Convert this dataframe to an interactive table.\"\n",
              "              style=\"display:none;\">\n",
              "        \n",
              "  <svg xmlns=\"http://www.w3.org/2000/svg\" height=\"24px\"viewBox=\"0 0 24 24\"\n",
              "       width=\"24px\">\n",
              "    <path d=\"M0 0h24v24H0V0z\" fill=\"none\"/>\n",
              "    <path d=\"M18.56 5.44l.94 2.06.94-2.06 2.06-.94-2.06-.94-.94-2.06-.94 2.06-2.06.94zm-11 1L8.5 8.5l.94-2.06 2.06-.94-2.06-.94L8.5 2.5l-.94 2.06-2.06.94zm10 10l.94 2.06.94-2.06 2.06-.94-2.06-.94-.94-2.06-.94 2.06-2.06.94z\"/><path d=\"M17.41 7.96l-1.37-1.37c-.4-.4-.92-.59-1.43-.59-.52 0-1.04.2-1.43.59L10.3 9.45l-7.72 7.72c-.78.78-.78 2.05 0 2.83L4 21.41c.39.39.9.59 1.41.59.51 0 1.02-.2 1.41-.59l7.78-7.78 2.81-2.81c.8-.78.8-2.07 0-2.86zM5.41 20L4 18.59l7.72-7.72 1.47 1.35L5.41 20z\"/>\n",
              "  </svg>\n",
              "      </button>\n",
              "      \n",
              "  <style>\n",
              "    .colab-df-container {\n",
              "      display:flex;\n",
              "      flex-wrap:wrap;\n",
              "      gap: 12px;\n",
              "    }\n",
              "\n",
              "    .colab-df-convert {\n",
              "      background-color: #E8F0FE;\n",
              "      border: none;\n",
              "      border-radius: 50%;\n",
              "      cursor: pointer;\n",
              "      display: none;\n",
              "      fill: #1967D2;\n",
              "      height: 32px;\n",
              "      padding: 0 0 0 0;\n",
              "      width: 32px;\n",
              "    }\n",
              "\n",
              "    .colab-df-convert:hover {\n",
              "      background-color: #E2EBFA;\n",
              "      box-shadow: 0px 1px 2px rgba(60, 64, 67, 0.3), 0px 1px 3px 1px rgba(60, 64, 67, 0.15);\n",
              "      fill: #174EA6;\n",
              "    }\n",
              "\n",
              "    [theme=dark] .colab-df-convert {\n",
              "      background-color: #3B4455;\n",
              "      fill: #D2E3FC;\n",
              "    }\n",
              "\n",
              "    [theme=dark] .colab-df-convert:hover {\n",
              "      background-color: #434B5C;\n",
              "      box-shadow: 0px 1px 3px 1px rgba(0, 0, 0, 0.15);\n",
              "      filter: drop-shadow(0px 1px 2px rgba(0, 0, 0, 0.3));\n",
              "      fill: #FFFFFF;\n",
              "    }\n",
              "  </style>\n",
              "\n",
              "      <script>\n",
              "        const buttonEl =\n",
              "          document.querySelector('#df-f69a0cc0-e212-4de2-80ae-3a1710d28332 button.colab-df-convert');\n",
              "        buttonEl.style.display =\n",
              "          google.colab.kernel.accessAllowed ? 'block' : 'none';\n",
              "\n",
              "        async function convertToInteractive(key) {\n",
              "          const element = document.querySelector('#df-f69a0cc0-e212-4de2-80ae-3a1710d28332');\n",
              "          const dataTable =\n",
              "            await google.colab.kernel.invokeFunction('convertToInteractive',\n",
              "                                                     [key], {});\n",
              "          if (!dataTable) return;\n",
              "\n",
              "          const docLinkHtml = 'Like what you see? Visit the ' +\n",
              "            '<a target=\"_blank\" href=https://colab.research.google.com/notebooks/data_table.ipynb>data table notebook</a>'\n",
              "            + ' to learn more about interactive tables.';\n",
              "          element.innerHTML = '';\n",
              "          dataTable['output_type'] = 'display_data';\n",
              "          await google.colab.output.renderOutput(dataTable, element);\n",
              "          const docLink = document.createElement('div');\n",
              "          docLink.innerHTML = docLinkHtml;\n",
              "          element.appendChild(docLink);\n",
              "        }\n",
              "      </script>\n",
              "    </div>\n",
              "  </div>\n",
              "  "
            ]
          },
          "metadata": {},
          "execution_count": 12
        }
      ],
      "source": [
        "df=df.drop_duplicates(keep=False)\n",
        "df"
      ]
    },
    {
      "cell_type": "markdown",
      "id": "c3a3bb46",
      "metadata": {
        "id": "c3a3bb46"
      },
      "source": [
        "After removing duplicate the number of rows has reduced from 86113 to 85590 rows"
      ]
    },
    {
      "cell_type": "markdown",
      "id": "9acb5fac",
      "metadata": {
        "id": "9acb5fac"
      },
      "source": [
        "What is the length of the index"
      ]
    },
    {
      "cell_type": "code",
      "execution_count": 13,
      "id": "ffca91a0",
      "metadata": {
        "colab": {
          "base_uri": "https://localhost:8080/"
        },
        "id": "ffca91a0",
        "outputId": "c45a489e-84cf-43c0-b7e5-554a2844920f"
      },
      "outputs": [
        {
          "output_type": "execute_result",
          "data": {
            "text/plain": [
              "85590"
            ]
          },
          "metadata": {},
          "execution_count": 13
        }
      ],
      "source": [
        "len(df.index)"
      ]
    },
    {
      "cell_type": "markdown",
      "id": "7903a32d",
      "metadata": {
        "id": "7903a32d"
      },
      "source": [
        "The index should be equal to the number of rows so lets reset the index"
      ]
    },
    {
      "cell_type": "code",
      "execution_count": 14,
      "id": "1566cf78",
      "metadata": {
        "colab": {
          "base_uri": "https://localhost:8080/",
          "height": 661
        },
        "id": "1566cf78",
        "outputId": "efbe6259-26a2-42e6-c118-4ce2f3ea9d93"
      },
      "outputs": [
        {
          "output_type": "execute_result",
          "data": {
            "text/plain": [
              "       index              Date driver_gender  driver_age_raw  driver_age  \\\n",
              "0          0     1/2/2005 1:55             M          1985.0        20.0   \n",
              "1          1    1/18/2005 8:15             M          1965.0        40.0   \n",
              "2          2   1/23/2005 23:15             M          1972.0        33.0   \n",
              "3          3   2/20/2005 17:15             M          1986.0        19.0   \n",
              "4          4   3/14/2005 10:00             F          1984.0        21.0   \n",
              "...      ...               ...           ...             ...         ...   \n",
              "85585  91736  12/31/2015 20:27             M          1986.0        29.0   \n",
              "85586  91737  12/31/2015 20:35             F          1982.0        33.0   \n",
              "85587  91738  12/31/2015 20:45             M          1992.0        23.0   \n",
              "85588  91739  12/31/2015 21:42             M          1993.0        22.0   \n",
              "85589  91740  12/31/2015 22:46             M          1959.0        56.0   \n",
              "\n",
              "      driver_race                   violation_raw         violation  \\\n",
              "0           White                        Speeding          Speeding   \n",
              "1           White                        Speeding          Speeding   \n",
              "2           White                        Speeding          Speeding   \n",
              "3           White                Call for Service             Other   \n",
              "4           White                        Speeding          Speeding   \n",
              "...           ...                             ...               ...   \n",
              "85585       White                        Speeding          Speeding   \n",
              "85586       White  Equipment/Inspection Violation         Equipment   \n",
              "85587       White         Other Traffic Violation  Moving violation   \n",
              "85588       White                        Speeding          Speeding   \n",
              "85589    Hispanic                        Speeding          Speeding   \n",
              "\n",
              "       search_conducted   stop_outcome is_arrested stop_duration  \\\n",
              "0                 False       Citation       False      0-15 Min   \n",
              "1                 False       Citation       False      0-15 Min   \n",
              "2                 False       Citation       False      0-15 Min   \n",
              "3                 False  Arrest Driver        True     16-30 Min   \n",
              "4                 False       Citation       False      0-15 Min   \n",
              "...                 ...            ...         ...           ...   \n",
              "85585             False        Warning       False      0-15 Min   \n",
              "85586             False        Warning       False      0-15 Min   \n",
              "85587             False        Warning       False      0-15 Min   \n",
              "85588             False       Citation       False      0-15 Min   \n",
              "85589             False       Citation       False      0-15 Min   \n",
              "\n",
              "       drugs_related_stop  \n",
              "0                   False  \n",
              "1                   False  \n",
              "2                   False  \n",
              "3                   False  \n",
              "4                   False  \n",
              "...                   ...  \n",
              "85585               False  \n",
              "85586               False  \n",
              "85587               False  \n",
              "85588               False  \n",
              "85589               False  \n",
              "\n",
              "[85590 rows x 13 columns]"
            ],
            "text/html": [
              "\n",
              "  <div id=\"df-ce02c1d0-f108-4bec-9e84-94ccb707f19e\">\n",
              "    <div class=\"colab-df-container\">\n",
              "      <div>\n",
              "<style scoped>\n",
              "    .dataframe tbody tr th:only-of-type {\n",
              "        vertical-align: middle;\n",
              "    }\n",
              "\n",
              "    .dataframe tbody tr th {\n",
              "        vertical-align: top;\n",
              "    }\n",
              "\n",
              "    .dataframe thead th {\n",
              "        text-align: right;\n",
              "    }\n",
              "</style>\n",
              "<table border=\"1\" class=\"dataframe\">\n",
              "  <thead>\n",
              "    <tr style=\"text-align: right;\">\n",
              "      <th></th>\n",
              "      <th>index</th>\n",
              "      <th>Date</th>\n",
              "      <th>driver_gender</th>\n",
              "      <th>driver_age_raw</th>\n",
              "      <th>driver_age</th>\n",
              "      <th>driver_race</th>\n",
              "      <th>violation_raw</th>\n",
              "      <th>violation</th>\n",
              "      <th>search_conducted</th>\n",
              "      <th>stop_outcome</th>\n",
              "      <th>is_arrested</th>\n",
              "      <th>stop_duration</th>\n",
              "      <th>drugs_related_stop</th>\n",
              "    </tr>\n",
              "  </thead>\n",
              "  <tbody>\n",
              "    <tr>\n",
              "      <th>0</th>\n",
              "      <td>0</td>\n",
              "      <td>1/2/2005 1:55</td>\n",
              "      <td>M</td>\n",
              "      <td>1985.0</td>\n",
              "      <td>20.0</td>\n",
              "      <td>White</td>\n",
              "      <td>Speeding</td>\n",
              "      <td>Speeding</td>\n",
              "      <td>False</td>\n",
              "      <td>Citation</td>\n",
              "      <td>False</td>\n",
              "      <td>0-15 Min</td>\n",
              "      <td>False</td>\n",
              "    </tr>\n",
              "    <tr>\n",
              "      <th>1</th>\n",
              "      <td>1</td>\n",
              "      <td>1/18/2005 8:15</td>\n",
              "      <td>M</td>\n",
              "      <td>1965.0</td>\n",
              "      <td>40.0</td>\n",
              "      <td>White</td>\n",
              "      <td>Speeding</td>\n",
              "      <td>Speeding</td>\n",
              "      <td>False</td>\n",
              "      <td>Citation</td>\n",
              "      <td>False</td>\n",
              "      <td>0-15 Min</td>\n",
              "      <td>False</td>\n",
              "    </tr>\n",
              "    <tr>\n",
              "      <th>2</th>\n",
              "      <td>2</td>\n",
              "      <td>1/23/2005 23:15</td>\n",
              "      <td>M</td>\n",
              "      <td>1972.0</td>\n",
              "      <td>33.0</td>\n",
              "      <td>White</td>\n",
              "      <td>Speeding</td>\n",
              "      <td>Speeding</td>\n",
              "      <td>False</td>\n",
              "      <td>Citation</td>\n",
              "      <td>False</td>\n",
              "      <td>0-15 Min</td>\n",
              "      <td>False</td>\n",
              "    </tr>\n",
              "    <tr>\n",
              "      <th>3</th>\n",
              "      <td>3</td>\n",
              "      <td>2/20/2005 17:15</td>\n",
              "      <td>M</td>\n",
              "      <td>1986.0</td>\n",
              "      <td>19.0</td>\n",
              "      <td>White</td>\n",
              "      <td>Call for Service</td>\n",
              "      <td>Other</td>\n",
              "      <td>False</td>\n",
              "      <td>Arrest Driver</td>\n",
              "      <td>True</td>\n",
              "      <td>16-30 Min</td>\n",
              "      <td>False</td>\n",
              "    </tr>\n",
              "    <tr>\n",
              "      <th>4</th>\n",
              "      <td>4</td>\n",
              "      <td>3/14/2005 10:00</td>\n",
              "      <td>F</td>\n",
              "      <td>1984.0</td>\n",
              "      <td>21.0</td>\n",
              "      <td>White</td>\n",
              "      <td>Speeding</td>\n",
              "      <td>Speeding</td>\n",
              "      <td>False</td>\n",
              "      <td>Citation</td>\n",
              "      <td>False</td>\n",
              "      <td>0-15 Min</td>\n",
              "      <td>False</td>\n",
              "    </tr>\n",
              "    <tr>\n",
              "      <th>...</th>\n",
              "      <td>...</td>\n",
              "      <td>...</td>\n",
              "      <td>...</td>\n",
              "      <td>...</td>\n",
              "      <td>...</td>\n",
              "      <td>...</td>\n",
              "      <td>...</td>\n",
              "      <td>...</td>\n",
              "      <td>...</td>\n",
              "      <td>...</td>\n",
              "      <td>...</td>\n",
              "      <td>...</td>\n",
              "      <td>...</td>\n",
              "    </tr>\n",
              "    <tr>\n",
              "      <th>85585</th>\n",
              "      <td>91736</td>\n",
              "      <td>12/31/2015 20:27</td>\n",
              "      <td>M</td>\n",
              "      <td>1986.0</td>\n",
              "      <td>29.0</td>\n",
              "      <td>White</td>\n",
              "      <td>Speeding</td>\n",
              "      <td>Speeding</td>\n",
              "      <td>False</td>\n",
              "      <td>Warning</td>\n",
              "      <td>False</td>\n",
              "      <td>0-15 Min</td>\n",
              "      <td>False</td>\n",
              "    </tr>\n",
              "    <tr>\n",
              "      <th>85586</th>\n",
              "      <td>91737</td>\n",
              "      <td>12/31/2015 20:35</td>\n",
              "      <td>F</td>\n",
              "      <td>1982.0</td>\n",
              "      <td>33.0</td>\n",
              "      <td>White</td>\n",
              "      <td>Equipment/Inspection Violation</td>\n",
              "      <td>Equipment</td>\n",
              "      <td>False</td>\n",
              "      <td>Warning</td>\n",
              "      <td>False</td>\n",
              "      <td>0-15 Min</td>\n",
              "      <td>False</td>\n",
              "    </tr>\n",
              "    <tr>\n",
              "      <th>85587</th>\n",
              "      <td>91738</td>\n",
              "      <td>12/31/2015 20:45</td>\n",
              "      <td>M</td>\n",
              "      <td>1992.0</td>\n",
              "      <td>23.0</td>\n",
              "      <td>White</td>\n",
              "      <td>Other Traffic Violation</td>\n",
              "      <td>Moving violation</td>\n",
              "      <td>False</td>\n",
              "      <td>Warning</td>\n",
              "      <td>False</td>\n",
              "      <td>0-15 Min</td>\n",
              "      <td>False</td>\n",
              "    </tr>\n",
              "    <tr>\n",
              "      <th>85588</th>\n",
              "      <td>91739</td>\n",
              "      <td>12/31/2015 21:42</td>\n",
              "      <td>M</td>\n",
              "      <td>1993.0</td>\n",
              "      <td>22.0</td>\n",
              "      <td>White</td>\n",
              "      <td>Speeding</td>\n",
              "      <td>Speeding</td>\n",
              "      <td>False</td>\n",
              "      <td>Citation</td>\n",
              "      <td>False</td>\n",
              "      <td>0-15 Min</td>\n",
              "      <td>False</td>\n",
              "    </tr>\n",
              "    <tr>\n",
              "      <th>85589</th>\n",
              "      <td>91740</td>\n",
              "      <td>12/31/2015 22:46</td>\n",
              "      <td>M</td>\n",
              "      <td>1959.0</td>\n",
              "      <td>56.0</td>\n",
              "      <td>Hispanic</td>\n",
              "      <td>Speeding</td>\n",
              "      <td>Speeding</td>\n",
              "      <td>False</td>\n",
              "      <td>Citation</td>\n",
              "      <td>False</td>\n",
              "      <td>0-15 Min</td>\n",
              "      <td>False</td>\n",
              "    </tr>\n",
              "  </tbody>\n",
              "</table>\n",
              "<p>85590 rows × 13 columns</p>\n",
              "</div>\n",
              "      <button class=\"colab-df-convert\" onclick=\"convertToInteractive('df-ce02c1d0-f108-4bec-9e84-94ccb707f19e')\"\n",
              "              title=\"Convert this dataframe to an interactive table.\"\n",
              "              style=\"display:none;\">\n",
              "        \n",
              "  <svg xmlns=\"http://www.w3.org/2000/svg\" height=\"24px\"viewBox=\"0 0 24 24\"\n",
              "       width=\"24px\">\n",
              "    <path d=\"M0 0h24v24H0V0z\" fill=\"none\"/>\n",
              "    <path d=\"M18.56 5.44l.94 2.06.94-2.06 2.06-.94-2.06-.94-.94-2.06-.94 2.06-2.06.94zm-11 1L8.5 8.5l.94-2.06 2.06-.94-2.06-.94L8.5 2.5l-.94 2.06-2.06.94zm10 10l.94 2.06.94-2.06 2.06-.94-2.06-.94-.94-2.06-.94 2.06-2.06.94z\"/><path d=\"M17.41 7.96l-1.37-1.37c-.4-.4-.92-.59-1.43-.59-.52 0-1.04.2-1.43.59L10.3 9.45l-7.72 7.72c-.78.78-.78 2.05 0 2.83L4 21.41c.39.39.9.59 1.41.59.51 0 1.02-.2 1.41-.59l7.78-7.78 2.81-2.81c.8-.78.8-2.07 0-2.86zM5.41 20L4 18.59l7.72-7.72 1.47 1.35L5.41 20z\"/>\n",
              "  </svg>\n",
              "      </button>\n",
              "      \n",
              "  <style>\n",
              "    .colab-df-container {\n",
              "      display:flex;\n",
              "      flex-wrap:wrap;\n",
              "      gap: 12px;\n",
              "    }\n",
              "\n",
              "    .colab-df-convert {\n",
              "      background-color: #E8F0FE;\n",
              "      border: none;\n",
              "      border-radius: 50%;\n",
              "      cursor: pointer;\n",
              "      display: none;\n",
              "      fill: #1967D2;\n",
              "      height: 32px;\n",
              "      padding: 0 0 0 0;\n",
              "      width: 32px;\n",
              "    }\n",
              "\n",
              "    .colab-df-convert:hover {\n",
              "      background-color: #E2EBFA;\n",
              "      box-shadow: 0px 1px 2px rgba(60, 64, 67, 0.3), 0px 1px 3px 1px rgba(60, 64, 67, 0.15);\n",
              "      fill: #174EA6;\n",
              "    }\n",
              "\n",
              "    [theme=dark] .colab-df-convert {\n",
              "      background-color: #3B4455;\n",
              "      fill: #D2E3FC;\n",
              "    }\n",
              "\n",
              "    [theme=dark] .colab-df-convert:hover {\n",
              "      background-color: #434B5C;\n",
              "      box-shadow: 0px 1px 3px 1px rgba(0, 0, 0, 0.15);\n",
              "      filter: drop-shadow(0px 1px 2px rgba(0, 0, 0, 0.3));\n",
              "      fill: #FFFFFF;\n",
              "    }\n",
              "  </style>\n",
              "\n",
              "      <script>\n",
              "        const buttonEl =\n",
              "          document.querySelector('#df-ce02c1d0-f108-4bec-9e84-94ccb707f19e button.colab-df-convert');\n",
              "        buttonEl.style.display =\n",
              "          google.colab.kernel.accessAllowed ? 'block' : 'none';\n",
              "\n",
              "        async function convertToInteractive(key) {\n",
              "          const element = document.querySelector('#df-ce02c1d0-f108-4bec-9e84-94ccb707f19e');\n",
              "          const dataTable =\n",
              "            await google.colab.kernel.invokeFunction('convertToInteractive',\n",
              "                                                     [key], {});\n",
              "          if (!dataTable) return;\n",
              "\n",
              "          const docLinkHtml = 'Like what you see? Visit the ' +\n",
              "            '<a target=\"_blank\" href=https://colab.research.google.com/notebooks/data_table.ipynb>data table notebook</a>'\n",
              "            + ' to learn more about interactive tables.';\n",
              "          element.innerHTML = '';\n",
              "          dataTable['output_type'] = 'display_data';\n",
              "          await google.colab.output.renderOutput(dataTable, element);\n",
              "          const docLink = document.createElement('div');\n",
              "          docLink.innerHTML = docLinkHtml;\n",
              "          element.appendChild(docLink);\n",
              "        }\n",
              "      </script>\n",
              "    </div>\n",
              "  </div>\n",
              "  "
            ]
          },
          "metadata": {},
          "execution_count": 14
        }
      ],
      "source": [
        "df=df.reset_index()\n",
        "df"
      ]
    },
    {
      "cell_type": "code",
      "execution_count": 15,
      "id": "aaff86f6",
      "metadata": {
        "colab": {
          "base_uri": "https://localhost:8080/"
        },
        "id": "aaff86f6",
        "outputId": "7d3a94d3-3714-4f3d-b989-88f46640a1d9"
      },
      "outputs": [
        {
          "output_type": "execute_result",
          "data": {
            "text/plain": [
              "index                 0\n",
              "Date                  0\n",
              "driver_gender         0\n",
              "driver_age_raw        0\n",
              "driver_age            0\n",
              "driver_race           0\n",
              "violation_raw         0\n",
              "violation             0\n",
              "search_conducted      0\n",
              "stop_outcome          0\n",
              "is_arrested           0\n",
              "stop_duration         0\n",
              "drugs_related_stop    0\n",
              "dtype: int64"
            ]
          },
          "metadata": {},
          "execution_count": 15
        }
      ],
      "source": [
        "df.isnull().sum()"
      ]
    },
    {
      "cell_type": "markdown",
      "id": "66af0235",
      "metadata": {
        "id": "66af0235"
      },
      "source": [
        "Let us drop the column named index"
      ]
    },
    {
      "cell_type": "code",
      "execution_count": 16,
      "id": "c404d31d",
      "metadata": {
        "id": "c404d31d"
      },
      "outputs": [],
      "source": [
        "df=df.drop(columns='index')"
      ]
    },
    {
      "cell_type": "code",
      "execution_count": 17,
      "id": "92992368",
      "metadata": {
        "colab": {
          "base_uri": "https://localhost:8080/"
        },
        "id": "92992368",
        "outputId": "163bcce7-cd91-4e66-e6de-e5bc716e1e29"
      },
      "outputs": [
        {
          "output_type": "execute_result",
          "data": {
            "text/plain": [
              "Date                   object\n",
              "driver_gender          object\n",
              "driver_age_raw        float64\n",
              "driver_age            float64\n",
              "driver_race            object\n",
              "violation_raw          object\n",
              "violation              object\n",
              "search_conducted         bool\n",
              "stop_outcome           object\n",
              "is_arrested            object\n",
              "stop_duration          object\n",
              "drugs_related_stop       bool\n",
              "dtype: object"
            ]
          },
          "metadata": {},
          "execution_count": 17
        }
      ],
      "source": [
        "df.dtypes"
      ]
    },
    {
      "cell_type": "markdown",
      "id": "86ca3c6f",
      "metadata": {
        "id": "86ca3c6f"
      },
      "source": [
        "Let us separate the day,month and year in the date column"
      ]
    },
    {
      "cell_type": "code",
      "execution_count": 18,
      "id": "c85f43d5",
      "metadata": {
        "id": "c85f43d5"
      },
      "outputs": [],
      "source": [
        "df['Date']=pd.to_datetime(df['Date'])"
      ]
    },
    {
      "cell_type": "code",
      "execution_count": 19,
      "id": "6244b823",
      "metadata": {
        "colab": {
          "base_uri": "https://localhost:8080/"
        },
        "id": "6244b823",
        "outputId": "f83f1c2e-55ca-47cf-bca8-6a905ddb6291"
      },
      "outputs": [
        {
          "output_type": "stream",
          "name": "stdout",
          "text": [
            "                     Date driver_gender  driver_age_raw  driver_age  \\\n",
            "0     2005-01-02 01:55:00             M          1985.0        20.0   \n",
            "1     2005-01-18 08:15:00             M          1965.0        40.0   \n",
            "2     2005-01-23 23:15:00             M          1972.0        33.0   \n",
            "3     2005-02-20 17:15:00             M          1986.0        19.0   \n",
            "4     2005-03-14 10:00:00             F          1984.0        21.0   \n",
            "...                   ...           ...             ...         ...   \n",
            "85585 2015-12-31 20:27:00             M          1986.0        29.0   \n",
            "85586 2015-12-31 20:35:00             F          1982.0        33.0   \n",
            "85587 2015-12-31 20:45:00             M          1992.0        23.0   \n",
            "85588 2015-12-31 21:42:00             M          1993.0        22.0   \n",
            "85589 2015-12-31 22:46:00             M          1959.0        56.0   \n",
            "\n",
            "      driver_race                   violation_raw         violation  \\\n",
            "0           White                        Speeding          Speeding   \n",
            "1           White                        Speeding          Speeding   \n",
            "2           White                        Speeding          Speeding   \n",
            "3           White                Call for Service             Other   \n",
            "4           White                        Speeding          Speeding   \n",
            "...           ...                             ...               ...   \n",
            "85585       White                        Speeding          Speeding   \n",
            "85586       White  Equipment/Inspection Violation         Equipment   \n",
            "85587       White         Other Traffic Violation  Moving violation   \n",
            "85588       White                        Speeding          Speeding   \n",
            "85589    Hispanic                        Speeding          Speeding   \n",
            "\n",
            "       search_conducted   stop_outcome is_arrested stop_duration  \\\n",
            "0                 False       Citation       False      0-15 Min   \n",
            "1                 False       Citation       False      0-15 Min   \n",
            "2                 False       Citation       False      0-15 Min   \n",
            "3                 False  Arrest Driver        True     16-30 Min   \n",
            "4                 False       Citation       False      0-15 Min   \n",
            "...                 ...            ...         ...           ...   \n",
            "85585             False        Warning       False      0-15 Min   \n",
            "85586             False        Warning       False      0-15 Min   \n",
            "85587             False        Warning       False      0-15 Min   \n",
            "85588             False       Citation       False      0-15 Min   \n",
            "85589             False       Citation       False      0-15 Min   \n",
            "\n",
            "       drugs_related_stop  Day  Month  Year  \n",
            "0                   False    2      1  2005  \n",
            "1                   False   18      1  2005  \n",
            "2                   False   23      1  2005  \n",
            "3                   False   20      2  2005  \n",
            "4                   False   14      3  2005  \n",
            "...                   ...  ...    ...   ...  \n",
            "85585               False   31     12  2015  \n",
            "85586               False   31     12  2015  \n",
            "85587               False   31     12  2015  \n",
            "85588               False   31     12  2015  \n",
            "85589               False   31     12  2015  \n",
            "\n",
            "[85590 rows x 15 columns]\n"
          ]
        }
      ],
      "source": [
        "df['Day'] = df['Date'].dt.day\n",
        "df['Month'] = df['Date'].dt.month\n",
        "df['Year'] = df['Date'].dt.year\n",
        "print(df)\n"
      ]
    },
    {
      "cell_type": "code",
      "execution_count": 20,
      "id": "7f510304",
      "metadata": {
        "colab": {
          "base_uri": "https://localhost:8080/"
        },
        "id": "7f510304",
        "outputId": "4b07de61-8f65-4fff-a1b4-2f7d4a9fa59a"
      },
      "outputs": [
        {
          "output_type": "execute_result",
          "data": {
            "text/plain": [
              "2012    10362\n",
              "2006    10009\n",
              "2007     8767\n",
              "2014     8765\n",
              "2015     8157\n",
              "2008     8029\n",
              "2011     7560\n",
              "2013     7381\n",
              "2009     7179\n",
              "2010     6938\n",
              "2005     2443\n",
              "Name: Year, dtype: int64"
            ]
          },
          "metadata": {},
          "execution_count": 20
        }
      ],
      "source": [
        "df['Year'].value_counts()"
      ]
    },
    {
      "cell_type": "code",
      "execution_count": 21,
      "id": "7f4f56db",
      "metadata": {
        "colab": {
          "base_uri": "https://localhost:8080/"
        },
        "id": "7f4f56db",
        "outputId": "339feea3-33a1-49fa-883e-517c25680a0e"
      },
      "outputs": [
        {
          "output_type": "execute_result",
          "data": {
            "text/plain": [
              "False    84778\n",
              "True       812\n",
              "Name: drugs_related_stop, dtype: int64"
            ]
          },
          "metadata": {},
          "execution_count": 21
        }
      ],
      "source": [
        "df['drugs_related_stop'].value_counts()"
      ]
    },
    {
      "cell_type": "code",
      "execution_count": 22,
      "id": "1a2cb573",
      "metadata": {
        "colab": {
          "base_uri": "https://localhost:8080/"
        },
        "id": "1a2cb573",
        "outputId": "b4a4aa1f-263b-4843-ca10-9f9530d72a42"
      },
      "outputs": [
        {
          "output_type": "execute_result",
          "data": {
            "text/plain": [
              "Speeding                            48087\n",
              "Other Traffic Violation             16060\n",
              "Equipment/Inspection Violation      10947\n",
              "Registration Violation               3387\n",
              "Seatbelt Violation                   2940\n",
              "Special Detail/Directed Patrol       2359\n",
              "Call for Service                     1265\n",
              "Violation of City/Town Ordinance      211\n",
              "Motorist Assist/Courtesy              187\n",
              "APB                                    78\n",
              "Suspicious Person                      54\n",
              "Warrant                                15\n",
              "Name: violation_raw, dtype: int64"
            ]
          },
          "metadata": {},
          "execution_count": 22
        }
      ],
      "source": [
        "df['violation_raw'].value_counts()"
      ]
    },
    {
      "cell_type": "code",
      "execution_count": 23,
      "id": "7e6a7da4",
      "metadata": {
        "colab": {
          "base_uri": "https://localhost:8080/"
        },
        "id": "7e6a7da4",
        "outputId": "33ff0930-791c-4fa3-a802-09de051b54f7"
      },
      "outputs": [
        {
          "output_type": "execute_result",
          "data": {
            "text/plain": [
              "Speeding               48087\n",
              "Moving violation       16060\n",
              "Equipment              10947\n",
              "Other                   4169\n",
              "Registration/plates     3387\n",
              "Seat belt               2940\n",
              "Name: violation, dtype: int64"
            ]
          },
          "metadata": {},
          "execution_count": 23
        }
      ],
      "source": [
        "df['violation'].value_counts()"
      ]
    },
    {
      "cell_type": "code",
      "execution_count": 24,
      "id": "698783f9",
      "metadata": {
        "colab": {
          "base_uri": "https://localhost:8080/"
        },
        "id": "698783f9",
        "outputId": "568c323e-395c-48fb-9ca4-24e30e2e9c92"
      },
      "outputs": [
        {
          "output_type": "execute_result",
          "data": {
            "text/plain": [
              "False    82417\n",
              "True      3173\n",
              "Name: search_conducted, dtype: int64"
            ]
          },
          "metadata": {},
          "execution_count": 24
        }
      ],
      "source": [
        "df['search_conducted'].value_counts()"
      ]
    },
    {
      "cell_type": "code",
      "execution_count": 25,
      "id": "a01e02c5",
      "metadata": {
        "colab": {
          "base_uri": "https://localhost:8080/"
        },
        "id": "a01e02c5",
        "outputId": "23697739-641c-423e-c5e2-565656889b4b"
      },
      "outputs": [
        {
          "output_type": "execute_result",
          "data": {
            "text/plain": [
              "driver_gender  driver_race\n",
              "F              White          18383\n",
              "               Black           2553\n",
              "               Hispanic        1861\n",
              "               Asian            511\n",
              "               Other             24\n",
              "M              White          43197\n",
              "               Black           9556\n",
              "               Hispanic        7558\n",
              "               Asian           1734\n",
              "               Other            213\n",
              "Name: driver_race, dtype: int64"
            ]
          },
          "metadata": {},
          "execution_count": 25
        }
      ],
      "source": [
        "df.groupby('driver_gender')['driver_race'].value_counts()"
      ]
    },
    {
      "cell_type": "code",
      "execution_count": 26,
      "id": "385abfdd",
      "metadata": {
        "id": "385abfdd"
      },
      "outputs": [],
      "source": [
        "df=df.replace({'drugs_related_stop':{'False':0,'True':1},'is_arrested':{'False':0,'True':1}})"
      ]
    },
    {
      "cell_type": "markdown",
      "source": [
        "## **DATA VISUALIZATION**"
      ],
      "metadata": {
        "id": "4cEv8_zjgnIp"
      },
      "id": "4cEv8_zjgnIp"
    },
    {
      "cell_type": "markdown",
      "id": "b31ead29",
      "metadata": {
        "id": "b31ead29"
      },
      "source": [
        "Let us make some data visualisations using seaborn"
      ]
    },
    {
      "cell_type": "markdown",
      "id": "35e2872b",
      "metadata": {
        "id": "35e2872b"
      },
      "source": [
        "First lets see the Race and Gender of the violating driver"
      ]
    },
    {
      "cell_type": "code",
      "execution_count": 27,
      "id": "ddac227d",
      "metadata": {
        "colab": {
          "base_uri": "https://localhost:8080/",
          "height": 489
        },
        "id": "ddac227d",
        "outputId": "ba0ed0e9-37af-408a-be91-3e9ab4b0a639"
      },
      "outputs": [
        {
          "output_type": "display_data",
          "data": {
            "text/plain": [
              "<Figure size 640x480 with 1 Axes>"
            ],
            "image/png": "[encoded data removed]"
          },
          "metadata": {}
        },
        {
          "output_type": "display_data",
          "data": {
            "text/plain": [
              "<Figure size 1000x6000 with 0 Axes>"
            ]
          },
          "metadata": {}
        }
      ],
      "source": [
        "sns.countplot(x='driver_race',hue='driver_gender',data=df)\n",
        "plt.title('RACE AND GENDER OF VIOLATING DRIVER')\n",
        "plt.figure(figsize=[10,60])\n",
        "plt.show()"
      ]
    },
    {
      "cell_type": "markdown",
      "id": "1b9a6e80",
      "metadata": {
        "id": "1b9a6e80"
      },
      "source": [
        "Lets now see the violations per year"
      ]
    },
    {
      "cell_type": "code",
      "execution_count": 28,
      "id": "e195ced2",
      "metadata": {
        "colab": {
          "base_uri": "https://localhost:8080/",
          "height": 472
        },
        "id": "e195ced2",
        "outputId": "8b22edcd-e8dd-4d29-f8fc-5a1c830f469f"
      },
      "outputs": [
        {
          "output_type": "display_data",
          "data": {
            "text/plain": [
              "<Figure size 640x480 with 1 Axes>"
            ],
            "image/png": "[encoded data removed]"
          },
          "metadata": {}
        }
      ],
      "source": [
        "sns.countplot(x='violation',hue='Year',data=df)\n",
        "plt.title ('VIOLATIONS PER YEAR')\n",
        "plt.show()"
      ]
    },
    {
      "cell_type": "code",
      "execution_count": 29,
      "id": "c811fa96",
      "metadata": {
        "colab": {
          "base_uri": "https://localhost:8080/",
          "height": 472
        },
        "id": "c811fa96",
        "outputId": "403b9f99-a669-4a9b-b750-2fbba4495ae1"
      },
      "outputs": [
        {
          "output_type": "display_data",
          "data": {
            "text/plain": [
              "<Figure size 640x480 with 1 Axes>"
            ],
            "image/png": "[encoded data removed]"
          },
          "metadata": {}
        }
      ],
      "source": [
        "sns.countplot(x='stop_outcome',hue='search_conducted',data=df)\n",
        "plt.title ('IS SEARCH CONDUCTED FOR EVERY STOP OUTCOME')\n",
        "plt.show()"
      ]
    },
    {
      "cell_type": "code",
      "execution_count": 29,
      "id": "92a69600",
      "metadata": {
        "id": "92a69600"
      },
      "outputs": [],
      "source": []
    },
    {
      "cell_type": "markdown",
      "source": [
        "## **CONCLUSION**"
      ],
      "metadata": {
        "id": "WaxiRKOUg3ph"
      },
      "id": "WaxiRKOUg3ph"
    },
    {
      "cell_type": "markdown",
      "id": "66f3c3c5",
      "metadata": {
        "id": "66f3c3c5"
      },
      "source": [
        "\n",
        "\n",
        "From the above analysis we can conclude that these are the facts got from the dataset.\n",
        "\n",
        "- In most cases search is not conducted for every stop outcome.\n",
        "\n",
        "- The violations are mainly caused by over speeding and for the period 2005 to 2015 they where mostly in 2006.The year 2005 had   the least violations in the same period.\n",
        "\n",
        "- White male committed the most traffic violations in the period 2005 to 2015 by far.The where follwed by white females.           Combined the white male and females committed more traffice violations than all the other races and genders combined.\n",
        "- It is very rare to have drug related stops.\n",
        "-In most cases there is no arrest warrant.\n",
        "\n",
        "                                                      END"
      ]
    },
    {
      "cell_type": "code",
      "execution_count": null,
      "id": "8cb238ac",
      "metadata": {
        "id": "8cb238ac"
      },
      "outputs": [],
      "source": []
    }
  ],
  "metadata": {
    "kernelspec": {
      "display_name": "Python 3 (ipykernel)",
      "language": "python",
      "name": "python3"
    },
    "language_info": {
      "codemirror_mode": {
        "name": "ipython",
        "version": 3
      },
      "file_extension": ".py",
      "mimetype": "text/x-python",
      "name": "python",
      "nbconvert_exporter": "python",
      "pygments_lexer": "ipython3",
      "version": "3.9.12"
    },
    "colab": {
      "provenance": [],
      "toc_visible": true,
      "include_colab_link": true
    }
  },
  "nbformat": 4,
  "nbformat_minor": 5
}